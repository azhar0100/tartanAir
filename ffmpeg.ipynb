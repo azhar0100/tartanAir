{
 "cells": [
  {
   "cell_type": "code",
   "execution_count": 1,
   "metadata": {},
   "outputs": [
    {
     "name": "stdout",
     "output_type": "stream",
     "text": [
      "Collecting ffmpeg\n",
      "  Downloading https://files.pythonhosted.org/packages/f0/cc/3b7408b8ecf7c1d20ad480c3eaed7619857bf1054b690226e906fdf14258/ffmpeg-1.4.tar.gz\n",
      "Building wheels for collected packages: ffmpeg\n",
      "  Building wheel for ffmpeg (setup.py) ... \u001b[?25ldone\n",
      "\u001b[?25h  Stored in directory: /home/azhar/.cache/pip/wheels/b6/68/c3/a05a35f647ba871e5572b9bbfc0b95fd1c6637a2219f959e7a\n",
      "Successfully built ffmpeg\n",
      "Installing collected packages: ffmpeg\n",
      "Successfully installed ffmpeg-1.4\n"
     ]
    }
   ],
   "source": [
    "!pip install ffmpeg"
   ]
  },
  {
   "cell_type": "code",
   "execution_count": 2,
   "metadata": {},
   "outputs": [
    {
     "name": "stdout",
     "output_type": "stream",
     "text": [
      "ffmpeg version 4.1.3 Copyright (c) 2000-2019 the FFmpeg developers\n",
      "  built with gcc 7.3.0 (crosstool-NG 1.23.0.449-a04d0)\n",
      "  configuration: --prefix=/home/azhar/anaconda3 --cc=/home/conda/feedstock_root/build_artifacts/ffmpeg_1556785800657/_build_env/bin/x86_64-conda_cos6-linux-gnu-cc --disable-doc --disable-openssl --enable-avresample --enable-gnutls --enable-gpl --enable-hardcoded-tables --enable-libfreetype --enable-libopenh264 --enable-libx264 --enable-pic --enable-pthreads --enable-shared --enable-static --enable-version3 --enable-zlib --enable-libmp3lame\n",
      "  libavutil      56. 22.100 / 56. 22.100\n",
      "  libavcodec     58. 35.100 / 58. 35.100\n",
      "  libavformat    58. 20.100 / 58. 20.100\n",
      "  libavdevice    58.  5.100 / 58.  5.100\n",
      "  libavfilter     7. 40.101 /  7. 40.101\n",
      "  libavresample   4.  0.  0 /  4.  0.  0\n",
      "  libswscale      5.  3.100 /  5.  3.100\n",
      "  libswresample   3.  3.100 /  3.  3.100\n",
      "  libpostproc    55.  3.100 / 55.  3.100\n",
      "Hyper fast Audio and Video encoder\n",
      "usage: ffmpeg [options] [[infile options] -i infile]... {[outfile options] outfile}...\n",
      "\n",
      "\u001b[0;33mUse -h to get full help or, even better, run 'man ffmpeg'\n",
      "\u001b[0m"
     ]
    }
   ],
   "source": [
    "!ffmpeg"
   ]
  },
  {
   "cell_type": "code",
   "execution_count": 3,
   "metadata": {},
   "outputs": [],
   "source": [
    "import ffmpeg"
   ]
  },
  {
   "cell_type": "code",
   "execution_count": 14,
   "metadata": {},
   "outputs": [
    {
     "name": "stdout",
     "output_type": "stream",
     "text": [
      "Collecting moviepy\n",
      "  Using cached https://files.pythonhosted.org/packages/18/54/01a8c4e35c75ca9724d19a7e4de9dc23f0ceb8769102c7de056113af61c3/moviepy-1.0.3.tar.gz\n",
      "Requirement already satisfied: decorator<5.0,>=4.0.2 in /home/azhar/anaconda3/lib/python3.7/site-packages (from moviepy) (4.4.0)\n",
      "Requirement already satisfied: tqdm<5.0,>=4.11.2 in /home/azhar/anaconda3/lib/python3.7/site-packages (from moviepy) (4.32.1)\n",
      "Requirement already satisfied: requests<3.0,>=2.8.1 in /home/azhar/anaconda3/lib/python3.7/site-packages (from moviepy) (2.22.0)\n",
      "Collecting proglog<=1.0.0 (from moviepy)\n",
      "  Using cached https://files.pythonhosted.org/packages/fe/ab/4cb19b578e1364c0b2d6efd6521a8b4b4e5c4ae6528041d31a2a951dd991/proglog-0.1.9.tar.gz\n",
      "Collecting numpy>=1.17.3 (from moviepy)\n",
      "  Using cached https://files.pythonhosted.org/packages/08/d6/a6aaa29fea945bc6c61d11f6e0697b325ff7446de5ffd62c2fa02f627048/numpy-1.19.5-cp37-cp37m-manylinux2010_x86_64.whl\n",
      "Requirement already satisfied: imageio<3.0,>=2.5 in /home/azhar/anaconda3/lib/python3.7/site-packages (from moviepy) (2.5.0)\n",
      "Collecting imageio_ffmpeg>=0.2.0 (from moviepy)\n",
      "\u001b[?25l  Downloading https://files.pythonhosted.org/packages/89/0f/4b49476d185a273163fa648eaf1e7d4190661d1bbf37ec2975b84df9de02/imageio_ffmpeg-0.4.3-py3-none-manylinux2010_x86_64.whl (26.9MB)\n",
      "\u001b[K     |████████████████████████████████| 26.9MB 620kB/s \n",
      "\u001b[?25hRequirement already satisfied: chardet<3.1.0,>=3.0.2 in /home/azhar/anaconda3/lib/python3.7/site-packages (from requests<3.0,>=2.8.1->moviepy) (3.0.4)\n",
      "Requirement already satisfied: idna<2.9,>=2.5 in /home/azhar/anaconda3/lib/python3.7/site-packages (from requests<3.0,>=2.8.1->moviepy) (2.8)\n",
      "Requirement already satisfied: certifi>=2017.4.17 in /home/azhar/anaconda3/lib/python3.7/site-packages (from requests<3.0,>=2.8.1->moviepy) (2020.6.20)\n",
      "Requirement already satisfied: urllib3!=1.25.0,!=1.25.1,<1.26,>=1.21.1 in /home/azhar/anaconda3/lib/python3.7/site-packages (from requests<3.0,>=2.8.1->moviepy) (1.24.2)\n",
      "Building wheels for collected packages: moviepy, proglog\n",
      "  Building wheel for moviepy (setup.py) ... \u001b[?25ldone\n",
      "\u001b[?25h  Stored in directory: /home/azhar/.cache/pip/wheels/e0/fe/1c/f4e6dca9e828d4b979c04e461d7fcc5b8e7bd35f947e665b65\n",
      "  Building wheel for proglog (setup.py) ... \u001b[?25ldone\n",
      "\u001b[?25h  Stored in directory: /home/azhar/.cache/pip/wheels/65/56/60/1d0306a8d90b188af393c1812ddb502a8821b70917f82dcc00\n",
      "Successfully built moviepy proglog\n",
      "\u001b[31mERROR: tensorflow 2.0.0 has requirement tensorboard<2.1.0,>=2.0.0, but you'll have tensorboard 2.1.0 which is incompatible.\u001b[0m\n",
      "\u001b[31mERROR: tensorflow 2.0.0 has requirement tensorflow-estimator<2.1.0,>=2.0.0, but you'll have tensorflow-estimator 2.1.0 which is incompatible.\u001b[0m\n",
      "\u001b[31mERROR: tensorboard 2.1.0 has requirement grpcio>=1.24.3, but you'll have grpcio 1.16.1 which is incompatible.\u001b[0m\n",
      "Installing collected packages: proglog, numpy, imageio-ffmpeg, moviepy\n",
      "  Found existing installation: numpy 1.16.4\n",
      "    Uninstalling numpy-1.16.4:\n",
      "      Successfully uninstalled numpy-1.16.4\n",
      "Successfully installed imageio-ffmpeg-0.4.3 moviepy-1.0.3 numpy-1.19.5 proglog-0.1.9\n"
     ]
    }
   ],
   "source": [
    "!pip install moviepy"
   ]
  },
  {
   "cell_type": "code",
   "execution_count": 27,
   "metadata": {},
   "outputs": [
    {
     "data": {
      "image/png": "[encoded data removed]",
      "text/plain": [
       "<Figure size 432x288 with 1 Axes>"
      ]
     },
     "metadata": {
      "needs_background": "light"
     },
     "output_type": "display_data"
    },
    {
     "data": {
      "text/plain": [
       "(50, 50, 3)"
      ]
     },
     "execution_count": 27,
     "metadata": {},
     "output_type": "execute_result"
    }
   ],
   "source": [
    "from pylab import imshow, show, get_cmap\n",
    "import numpy as np\n",
    "\n",
    "Z = np.random.random((50,50,3))   # Test data\n",
    "\n",
    "imshow(Z, cmap=get_cmap(\"Spectral\"), interpolation='nearest')\n",
    "show()\n",
    "Z.shape"
   ]
  },
  {
   "cell_type": "code",
   "execution_count": 29,
   "metadata": {},
   "outputs": [],
   "source": [
    "images = [(np.random.random([200,200,3])*255).astype('uint8') for x in range(50)]"
   ]
  },
  {
   "cell_type": "code",
   "execution_count": 30,
   "metadata": {},
   "outputs": [],
   "source": [
    "import PIL"
   ]
  },
  {
   "cell_type": "code",
   "execution_count": 31,
   "metadata": {},
   "outputs": [
    {
     "data": {
      "text/plain": [
       "[<PIL.Image.Image image mode=RGB size=200x200 at 0x7FC2D221DD30>,\n",
       " <PIL.Image.Image image mode=RGB size=200x200 at 0x7FC2D16E8E80>,\n",
       " <PIL.Image.Image image mode=RGB size=200x200 at 0x7FC2D16E8128>,\n",
       " <PIL.Image.Image image mode=RGB size=200x200 at 0x7FC2D16D9E10>,\n",
       " <PIL.Image.Image image mode=RGB size=200x200 at 0x7FC2D16D9CC0>,\n",
       " <PIL.Image.Image image mode=RGB size=200x200 at 0x7FC2D16D9668>,\n",
       " <PIL.Image.Image image mode=RGB size=200x200 at 0x7FC2D16D9C50>,\n",
       " <PIL.Image.Image image mode=RGB size=200x200 at 0x7FC2D16D9EB8>,\n",
       " <PIL.Image.Image image mode=RGB size=200x200 at 0x7FC2D16D94A8>,\n",
       " <PIL.Image.Image image mode=RGB size=200x200 at 0x7FC2D16D9BE0>,\n",
       " <PIL.Image.Image image mode=RGB size=200x200 at 0x7FC2D16D9080>,\n",
       " <PIL.Image.Image image mode=RGB size=200x200 at 0x7FC2D16D9400>,\n",
       " <PIL.Image.Image image mode=RGB size=200x200 at 0x7FC2D16E5828>,\n",
       " <PIL.Image.Image image mode=RGB size=200x200 at 0x7FC2D16E5400>,\n",
       " <PIL.Image.Image image mode=RGB size=200x200 at 0x7FC2D16E57F0>,\n",
       " <PIL.Image.Image image mode=RGB size=200x200 at 0x7FC2D16E56A0>,\n",
       " <PIL.Image.Image image mode=RGB size=200x200 at 0x7FC2D16E5940>,\n",
       " <PIL.Image.Image image mode=RGB size=200x200 at 0x7FC2D16E5978>,\n",
       " <PIL.Image.Image image mode=RGB size=200x200 at 0x7FC2D16E5DA0>,\n",
       " <PIL.Image.Image image mode=RGB size=200x200 at 0x7FC2D16E56D8>,\n",
       " <PIL.Image.Image image mode=RGB size=200x200 at 0x7FC2D16E59B0>,\n",
       " <PIL.Image.Image image mode=RGB size=200x200 at 0x7FC2D16E5C18>,\n",
       " <PIL.Image.Image image mode=RGB size=200x200 at 0x7FC2D16E5550>,\n",
       " <PIL.Image.Image image mode=RGB size=200x200 at 0x7FC2D16E5438>,\n",
       " <PIL.Image.Image image mode=RGB size=200x200 at 0x7FC2D16E5208>,\n",
       " <PIL.Image.Image image mode=RGB size=200x200 at 0x7FC2D16DF550>,\n",
       " <PIL.Image.Image image mode=RGB size=200x200 at 0x7FC2D16DF320>,\n",
       " <PIL.Image.Image image mode=RGB size=200x200 at 0x7FC2D16DF860>,\n",
       " <PIL.Image.Image image mode=RGB size=200x200 at 0x7FC2D16DF4A8>,\n",
       " <PIL.Image.Image image mode=RGB size=200x200 at 0x7FC2D16DFC88>,\n",
       " <PIL.Image.Image image mode=RGB size=200x200 at 0x7FC2D16DF630>,\n",
       " <PIL.Image.Image image mode=RGB size=200x200 at 0x7FC2D16DF438>,\n",
       " <PIL.Image.Image image mode=RGB size=200x200 at 0x7FC2D16DF7F0>,\n",
       " <PIL.Image.Image image mode=RGB size=200x200 at 0x7FC2D16DF128>,\n",
       " <PIL.Image.Image image mode=RGB size=200x200 at 0x7FC2D16DFDA0>,\n",
       " <PIL.Image.Image image mode=RGB size=200x200 at 0x7FC2D16DF5C0>,\n",
       " <PIL.Image.Image image mode=RGB size=200x200 at 0x7FC2D16D5048>,\n",
       " <PIL.Image.Image image mode=RGB size=200x200 at 0x7FC2D16D5518>,\n",
       " <PIL.Image.Image image mode=RGB size=200x200 at 0x7FC2D16D5C18>,\n",
       " <PIL.Image.Image image mode=RGB size=200x200 at 0x7FC2D16D55F8>,\n",
       " <PIL.Image.Image image mode=RGB size=200x200 at 0x7FC2D16D59B0>,\n",
       " <PIL.Image.Image image mode=RGB size=200x200 at 0x7FC2D16D5CF8>,\n",
       " <PIL.Image.Image image mode=RGB size=200x200 at 0x7FC2D16D5208>,\n",
       " <PIL.Image.Image image mode=RGB size=200x200 at 0x7FC2D16EF518>,\n",
       " <PIL.Image.Image image mode=RGB size=200x200 at 0x7FC2D16EF198>,\n",
       " <PIL.Image.Image image mode=RGB size=200x200 at 0x7FC2D16EF320>,\n",
       " <PIL.Image.Image image mode=RGB size=200x200 at 0x7FC2D16EF400>,\n",
       " <PIL.Image.Image image mode=RGB size=200x200 at 0x7FC2D16EF710>,\n",
       " <PIL.Image.Image image mode=RGB size=200x200 at 0x7FC2D16EF630>,\n",
       " <PIL.Image.Image image mode=RGB size=200x200 at 0x7FC2D16EF6A0>]"
      ]
     },
     "execution_count": 31,
     "metadata": {},
     "output_type": "execute_result"
    }
   ],
   "source": [
    "pImages = [PIL.Image.fromarray(x) for x in images]\n",
    "pImages"
   ]
  },
  {
   "cell_type": "code",
   "execution_count": 32,
   "metadata": {},
   "outputs": [
    {
     "name": "stdout",
     "output_type": "stream",
     "text": [
      "mkdir: cannot create directory ‘imgs’: File exists\n"
     ]
    }
   ],
   "source": [
    "!mkdir imgs"
   ]
  },
  {
   "cell_type": "code",
   "execution_count": 33,
   "metadata": {},
   "outputs": [],
   "source": [
    "for i in range(50):\n",
    "    pImages[i].save(str(i).zfill(2)+\".png\")"
   ]
  },
  {
   "cell_type": "code",
   "execution_count": 34,
   "metadata": {},
   "outputs": [],
   "source": [
    "!ls imgs"
   ]
  },
  {
   "cell_type": "code",
   "execution_count": 35,
   "metadata": {},
   "outputs": [
    {
     "data": {
      "text/plain": [
       "list"
      ]
     },
     "execution_count": 35,
     "metadata": {},
     "output_type": "execute_result"
    }
   ],
   "source": [
    "from glob import glob\n",
    "pt = glob(\"imgs/*.png\")\n",
    "type(pt)"
   ]
  },
  {
   "cell_type": "code",
   "execution_count": 36,
   "metadata": {},
   "outputs": [
    {
     "name": "stderr",
     "output_type": "stream",
     "text": [
      "t:   0%|          | 0/50 [00:00<?, ?it/s, now=None]['03.png', '45.png', '06.png', '04.png', '15.png', '32.png', '19.png', '22.png', '14.png', '47.png', '05.png', '27.png', '21.png', '31.png', '12.png', '02.png', '35.png', '01.png', '23.png', '24.png', '37.png', '36.png', '29.png', '42.png', '34.png', '07.png', '30.png', '09.png', '26.png', '16.png', '40.png', '49.png', '20.png', '10.png', '33.png', '08.png', '13.png', '18.png', '46.png', '38.png', '17.png', '48.png', '11.png', '00.png', '41.png', '43.png', '28.png', '25.png', '39.png', '44.png']\n",
      "Moviepy - Building video my_video.mp4.\n",
      "Moviepy - Writing video my_video.mp4\n",
      "\n",
      "Moviepy - Done !\n",
      "Moviepy - video ready my_video.mp4\n"
     ]
    }
   ],
   "source": [
    "import os\n",
    "import moviepy.video.io.ImageSequenceClip\n",
    "from glob import glob\n",
    "fps=1\n",
    "\n",
    "image_files = glob(\"*.png\")\n",
    "print(image_files)\n",
    "clip = moviepy.video.io.ImageSequenceClip.ImageSequenceClip(image_files, fps=1)\n",
    "# clip =  moviepy.video.io.TextClip.TextClip(\"Hello !\", font=\"Amiri-Bold\", fontsize=70, color=\"black\")\n",
    "clip.write_videofile('my_video.mp4')\n"
   ]
  },
  {
   "cell_type": "code",
   "execution_count": 37,
   "metadata": {
    "tags": []
   },
   "outputs": [
    {
     "data": {
      "text/html": [
       "<video src=\"my_video.mp4\" controls  >\n",
       "      Your browser does not support the <code>video</code> element.\n",
       "    </video>"
      ],
      "text/plain": [
       "<IPython.core.display.Video object>"
      ]
     },
     "execution_count": 37,
     "metadata": {},
     "output_type": "execute_result"
    }
   ],
   "source": [
    " from IPython.display import Video\n",
    "\n",
    "Video(\"my_video.mp4\")"
   ]
  },
  {
   "cell_type": "code",
   "execution_count": null,
   "metadata": {},
   "outputs": [],
   "source": []
  }
 ],
 "metadata": {
  "kernelspec": {
   "display_name": "Python 3",
   "language": "python",
   "name": "python3"
  },
  "language_info": {
   "codemirror_mode": {
    "name": "ipython",
    "version": 3
   },
   "file_extension": ".py",
   "mimetype": "text/x-python",
   "name": "python",
   "nbconvert_exporter": "python",
   "pygments_lexer": "ipython3",
   "version": "3.7.3"
  }
 },
 "nbformat": 4,
 "nbformat_minor": 2
}
